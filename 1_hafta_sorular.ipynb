{
 "cells": [
  {
   "cell_type": "code",
   "execution_count": 52,
   "id": "b7172eb1-fcc2-4690-9578-41d37bded187",
   "metadata": {},
   "outputs": [
    {
     "name": "stdout",
     "output_type": "stream",
     "text": [
      "Marka: Toyota, Model: Corolla\n"
     ]
    },
    {
     "data": {
      "text/plain": [
       "'\\nBurada bir araba sınıfı oluşturulmuş ve marka, model özellikleri eklenmiş. Sonra da bilgileri_yazdir fonksiyonu ile bunlar yazdırılmış.\\n'"
      ]
     },
     "execution_count": 52,
     "metadata": {},
     "output_type": "execute_result"
    }
   ],
   "source": [
    "class Araba:\n",
    "    def __init__(self, marka, model):\n",
    "        self.marka = marka\n",
    "        self.model = model\n",
    "\n",
    "    def bilgileri_yazdir(self):\n",
    "        print(f\"Marka: {self.marka}, Model: {self.model}\")\n",
    "\n",
    "# Kullanım\n",
    "araba1 = Araba(\"Toyota\", \"Corolla\")\n",
    "araba1.bilgileri_yazdir()\n",
    "\n",
    "\"\"\"\n",
    "Burada bir araba sınıfı oluşturulmuş ve marka, model özellikleri eklenmiş. Sonra da bilgileri_yazdir fonksiyonu ile bunlar yazdırılmış.\n",
    "\"\"\""
   ]
  },
  {
   "cell_type": "code",
   "execution_count": 53,
   "id": "0020ae9a-ae7f-483d-b2b8-5d328ad57e58",
   "metadata": {},
   "outputs": [
    {
     "name": "stdout",
     "output_type": "stream",
     "text": [
      "Dikdörtgenin alanı: 50\n"
     ]
    }
   ],
   "source": [
    "class Dikdortgen:\n",
    "    def __init__(self, genislik, yukseklik):\n",
    "        self.genislik = genislik\n",
    "        self.yukseklik = yukseklik\n",
    "\n",
    "    def alan_hesapla(self):\n",
    "        return self.genislik * self.yukseklik\n",
    "\n",
    "# Kullanım\n",
    "dikdortgen1 = Dikdortgen(5, 10)\n",
    "alan = dikdortgen1.alan_hesapla()\n",
    "print(f\"Dikdörtgenin alanı: {alan}\")"
   ]
  },
  {
   "cell_type": "code",
   "execution_count": 54,
   "id": "12b8e3e9-5bdd-4e16-91bc-edaea5ea77d0",
   "metadata": {},
   "outputs": [
    {
     "name": "stdout",
     "output_type": "stream",
     "text": [
      "* * * * * \n",
      "* * * * * \n",
      "* * * * * \n",
      "* * * * * \n",
      "* * * * * \n"
     ]
    }
   ],
   "source": [
    "class Kare:\n",
    "    def __init__(self, kenar):\n",
    "        self.kenar = kenar\n",
    "\n",
    "    def kareyi_yazdir(self):\n",
    "        for i in range(self.kenar):\n",
    "            print(\"* \" * self.kenar)\n",
    "\n",
    "# Kullanım\n",
    "kare1 = Kare(5)\n",
    "kare1.kareyi_yazdir()"
   ]
  },
  {
   "cell_type": "code",
   "execution_count": 55,
   "id": "baa2b525-32e8-488b-b5a2-ae6c07ca5db5",
   "metadata": {},
   "outputs": [
    {
     "name": "stdout",
     "output_type": "stream",
     "text": [
      "İki sayının toplamı: 30\n",
      "Üç sayının toplamı: 60\n"
     ]
    }
   ],
   "source": [
    "class HesapMakinesi:\n",
    "    def topla(self, sayi1, sayi2, sayi3=None):\n",
    "        if sayi3 is not None:\n",
    "            return sayi1 + sayi2 + sayi3\n",
    "        else:\n",
    "            return sayi1 + sayi2\n",
    "\n",
    "# HesapMakinesi sınıfından bir nesne oluşturma\n",
    "hesap_makinesi = HesapMakinesi()\n",
    "\n",
    "# İki sayı ile toplama\n",
    "sonuc1 = hesap_makinesi.topla(10, 20)\n",
    "print(\"İki sayının toplamı:\", sonuc1)\n",
    "\n",
    "# Üç sayı ile toplama\n",
    "sonuc2 = hesap_makinesi.topla(10, 20, 30)\n",
    "print(\"Üç sayının toplamı:\", sonuc2)"
   ]
  },
  {
   "cell_type": "code",
   "execution_count": 57,
   "id": "afccf952-16e7-4946-9efc-ffed181e660f",
   "metadata": {},
   "outputs": [
    {
     "name": "stdout",
     "output_type": "stream",
     "text": [
      "Merhaba Dünya\n"
     ]
    }
   ],
   "source": [
    "class Merhaba:\n",
    "    def merhaba_yazdir(self):\n",
    "        print(\"Merhaba Dünya\")\n",
    "\n",
    "# Merhaba sınıfından bir nesne oluşturma ve metodu çağırma\n",
    "merhaba = Merhaba()\n",
    "merhaba.merhaba_yazdir()"
   ]
  },
  {
   "cell_type": "code",
   "execution_count": 58,
   "id": "87e17677-19e1-4f65-881a-d62531d55abe",
   "metadata": {},
   "outputs": [
    {
     "name": "stdout",
     "output_type": "stream",
     "text": [
      "--- Hoca Nesnesi Oluşturuluyor ---\n",
      "-> İnsan nesnesi oluşturuldu: Muhammet Sinan Başarslan\n",
      "--> Hoca nesnesi oluşturuldu: Muhammet Sinan Başarslan\n",
      "Merhaba, ben Öğretmen Muhammet Sinan Başarslan. Bugün önemli bir konuyu işleyeceğiz.\n",
      "Muhammet Sinan Başarslan, Nesne Yönelimli Programlama dersini anlatıyor...\n",
      "\n",
      "--- Sekreter Nesnesi Oluşturuluyor ---\n",
      "-> İnsan nesnesi oluşturuldu: Azra Önder\n",
      "--> Sekreter nesnesi oluşturuldu: Azra Önder\n",
      "Merhaba, ben Azra Önder. Öğrenci İşleri bölümündeyim. Nasıl yardımcı olabilirim?\n",
      "Azra Önder, Bölüm Başkanı için bir randevu takvimi oluşturuyor.\n",
      "\n",
      "--- Öğrenci Nesnesi Oluşturuluyor ---\n",
      "-> İnsan nesnesi oluşturuldu: Barbaros Öztürk\n",
      "--> Öğrenci nesnesi oluşturuldu: Barbaros Öztürk\n",
      "Selam, ben Barbaros Öztürk. Öğrenci numaram 1907.\n",
      "Barbaros Öztürk, Veri Yapıları dersine çalışıyor. Lütfen rahatsız etmeyin.\n"
     ]
    }
   ],
   "source": [
    "class Insan:\n",
    "    def __init__(self, ad, yas):\n",
    "        self.ad = ad\n",
    "        self.yas = yas\n",
    "        print(f\"-> İnsan nesnesi oluşturuldu: {self.ad}\")\n",
    "\n",
    "    def konus(self):\n",
    "        print(f\"Merhaba, ben {self.ad}. Genel bir konuşma yapıyorum.\")\n",
    "\n",
    "class Hoca(Insan):\n",
    "    def __init__(self, ad, yas, sicil_no):\n",
    "        super().__init__(ad, yas)\n",
    "        self.sicil_no = sicil_no\n",
    "        print(f\"--> Hoca nesnesi oluşturuldu: {self.ad}\")\n",
    "\n",
    "    def konus(self):\n",
    "        print(f\"Merhaba, ben Öğretmen {self.ad}. Bugün önemli bir konuyu işleyeceğiz.\")\n",
    "\n",
    "    def ders_ver(self, ders_adi):\n",
    "        print(f\"{self.ad}, {ders_adi} dersini anlatıyor...\")\n",
    "\n",
    "class Sekreter(Insan):\n",
    "    def __init__(self, ad, yas, departman):\n",
    "        super().__init__(ad, yas)\n",
    "        self.departman = departman\n",
    "        print(f\"--> Sekreter nesnesi oluşturuldu: {self.ad}\")\n",
    "\n",
    "    def konus(self):\n",
    "        print(f\"Merhaba, ben {self.ad}. {self.departman} bölümündeyim. Nasıl yardımcı olabilirim?\")\n",
    "\n",
    "    def randevu_ayarla(self, kiminle):\n",
    "        print(f\"{self.ad}, {kiminle} için bir randevu takvimi oluşturuyor.\")\n",
    "\n",
    "class Ogrenci(Insan):\n",
    "    def __init__(self, ad, yas, ogrenci_no):\n",
    "        super().__init__(ad, yas)\n",
    "        self.ogrenci_no = ogrenci_no\n",
    "        print(f\"--> Öğrenci nesnesi oluşturuldu: {self.ad}\")\n",
    "\n",
    "    def konus(self):\n",
    "        print(f\"Selam, ben {self.ad}. Öğrenci numaram {self.ogrenci_no}.\")\n",
    "\n",
    "    def ders_calis(self, ders_adi):\n",
    "        print(f\"{self.ad}, {ders_adi} dersine çalışıyor. Lütfen rahatsız etmeyin.\")\n",
    "\n",
    "\n",
    "print(\"--- Hoca Nesnesi Oluşturuluyor ---\")\n",
    "hoca1 = Hoca(\"Muhammet Sinan Başarslan\", 45, \"SCL-101\")\n",
    "hoca1.konus()\n",
    "hoca1.ders_ver(\"Nesne Yönelimli Programlama\")\n",
    "\n",
    "print(\"\\n--- Sekreter Nesnesi Oluşturuluyor ---\")\n",
    "sekreter1 = Sekreter(\"Azra Önder\", 32, \"Öğrenci İşleri\")\n",
    "sekreter1.konus()\n",
    "sekreter1.randevu_ayarla(\"Bölüm Başkanı\")\n",
    "\n",
    "print(\"\\n--- Öğrenci Nesnesi Oluşturuluyor ---\")\n",
    "ogrenci1 = Ogrenci(\"Barbaros Öztürk\", 20, 1907)\n",
    "ogrenci1.konus()\n",
    "ogrenci1.ders_calis(\"Veri Yapıları\")"
   ]
  },
  {
   "cell_type": "code",
   "execution_count": null,
   "id": "d76af9f6-a9d7-4f9a-9d94-23f04d34100b",
   "metadata": {},
   "outputs": [],
   "source": []
  }
 ],
 "metadata": {
  "kernelspec": {
   "display_name": "Python [conda env:base] *",
   "language": "python",
   "name": "conda-base-py"
  },
  "language_info": {
   "codemirror_mode": {
    "name": "ipython",
    "version": 3
   },
   "file_extension": ".py",
   "mimetype": "text/x-python",
   "name": "python",
   "nbconvert_exporter": "python",
   "pygments_lexer": "ipython3",
   "version": "3.13.5"
  }
 },
 "nbformat": 4,
 "nbformat_minor": 5
}

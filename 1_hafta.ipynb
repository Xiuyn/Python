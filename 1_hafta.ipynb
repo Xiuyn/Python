{
 "cells": [
  {
   "cell_type": "code",
   "execution_count": 1,
   "id": "e682685d-ff37-4bd0-80bf-68b4240eea13",
   "metadata": {},
   "outputs": [
    {
     "name": "stdout",
     "output_type": "stream",
     "text": [
      "Hello World!\n"
     ]
    }
   ],
   "source": [
    "print(\"Hello World!\")"
   ]
  },
  {
   "cell_type": "code",
   "execution_count": 2,
   "id": "bca41b0a-3d18-421c-9624-e6a6c755d1c3",
   "metadata": {},
   "outputs": [
    {
     "name": "stdout",
     "output_type": "stream",
     "text": [
      "T.B.M.M\n"
     ]
    }
   ],
   "source": [
    "print(\"T\",\"B\",\"M\",\"M\",sep='.')"
   ]
  },
  {
   "cell_type": "code",
   "execution_count": 4,
   "id": "eb02928b-ab4b-4a45-bc75-8d6d4f8bde3b",
   "metadata": {},
   "outputs": [
    {
     "name": "stdout",
     "output_type": "stream",
     "text": [
      "<class 'str'>\n"
     ]
    },
    {
     "data": {
      "text/plain": [
       "int"
      ]
     },
     "execution_count": 4,
     "metadata": {},
     "output_type": "execute_result"
    }
   ],
   "source": [
    "a = \"Barbaros\"\n",
    "b = 10\n",
    "c = 5.2\n",
    "d = 'a'\n",
    "print(type(a))\n",
    "type(b)"
   ]
  },
  {
   "cell_type": "code",
   "execution_count": 8,
   "id": "5586bc5c-7383-4c38-bb15-43f914c10686",
   "metadata": {},
   "outputs": [
    {
     "name": "stdout",
     "output_type": "stream",
     "text": [
      "3\n",
      "6\n",
      "['__add__', '__class__', '__class_getitem__', '__contains__', '__delattr__', '__delitem__', '__dir__', '__doc__', '__eq__', '__format__', '__ge__', '__getattribute__', '__getitem__', '__getstate__', '__gt__', '__hash__', '__iadd__', '__imul__', '__init__', '__init_subclass__', '__iter__', '__le__', '__len__', '__lt__', '__mul__', '__ne__', '__new__', '__reduce__', '__reduce_ex__', '__repr__', '__reversed__', '__rmul__', '__setattr__', '__setitem__', '__sizeof__', '__str__', '__subclasshook__', 'append', 'clear', 'copy', 'count', 'extend', 'index', 'insert', 'pop', 'remove', 'reverse', 'sort']\n"
     ]
    }
   ],
   "source": [
    "#Yorum satırı\n",
    "\n",
    "liste = [1,3,5,2,8,4]\n",
    "print(liste[1])\n",
    "print(len(liste))\n",
    "print(dir(liste))"
   ]
  },
  {
   "cell_type": "code",
   "execution_count": 10,
   "id": "3ab9aec2-10ec-4443-862d-75fcc4f1cce9",
   "metadata": {},
   "outputs": [
    {
     "data": {
      "text/plain": [
       "[1, 2, 3, 4, 5, 8]"
      ]
     },
     "execution_count": 10,
     "metadata": {},
     "output_type": "execute_result"
    }
   ],
   "source": [
    "liste.sort()\n",
    "liste"
   ]
  },
  {
   "cell_type": "code",
   "execution_count": 15,
   "id": "151e9c20-8d37-4542-8bf5-0c9c38f8f93e",
   "metadata": {},
   "outputs": [
    {
     "data": {
      "text/plain": [
       "[1, 2, 3, 4, 5]"
      ]
     },
     "execution_count": 15,
     "metadata": {},
     "output_type": "execute_result"
    }
   ],
   "source": [
    "liste.pop()\n",
    "liste"
   ]
  },
  {
   "cell_type": "code",
   "execution_count": 16,
   "id": "b7195ea7-e281-4e9e-90f5-da5d90cbf1b6",
   "metadata": {},
   "outputs": [
    {
     "data": {
      "text/plain": [
       "[1, 2, 3, 4, 5, 78]"
      ]
     },
     "execution_count": 16,
     "metadata": {},
     "output_type": "execute_result"
    }
   ],
   "source": [
    "liste.append(78)\n",
    "liste"
   ]
  },
  {
   "cell_type": "code",
   "execution_count": 19,
   "id": "8240d815-9970-46c9-984e-e483724506f3",
   "metadata": {},
   "outputs": [
    {
     "data": {
      "text/plain": [
       "(1, 5, 2, 7, 4, 1)"
      ]
     },
     "execution_count": 19,
     "metadata": {},
     "output_type": "execute_result"
    }
   ],
   "source": [
    "demet = (1,5,2,7,4,1)\n",
    "demet"
   ]
  },
  {
   "cell_type": "code",
   "execution_count": 20,
   "id": "4e9e5503-2201-414a-b398-a13854e62394",
   "metadata": {},
   "outputs": [
    {
     "data": {
      "text/plain": [
       "2"
      ]
     },
     "execution_count": 20,
     "metadata": {},
     "output_type": "execute_result"
    }
   ],
   "source": [
    "demet.count(1)"
   ]
  },
  {
   "cell_type": "code",
   "execution_count": 22,
   "id": "8a4b9e3a-03a5-41fb-972d-f984e0d7db3b",
   "metadata": {},
   "outputs": [
    {
     "data": {
      "text/plain": [
       "1"
      ]
     },
     "execution_count": 22,
     "metadata": {},
     "output_type": "execute_result"
    }
   ],
   "source": [
    "demet.index(5)"
   ]
  },
  {
   "cell_type": "code",
   "execution_count": 23,
   "id": "b54ca3a0-b77d-4fb0-a4a2-01d77244dc1f",
   "metadata": {},
   "outputs": [
    {
     "data": {
      "text/plain": [
       "'Barbaros'"
      ]
     },
     "execution_count": 23,
     "metadata": {},
     "output_type": "execute_result"
    }
   ],
   "source": [
    "x = \"barbaros\"\n",
    "x.capitalize()"
   ]
  },
  {
   "cell_type": "code",
   "execution_count": 24,
   "id": "337c0500-07c5-439c-9f44-29bc7a3601db",
   "metadata": {},
   "outputs": [
    {
     "name": "stdout",
     "output_type": "stream",
     "text": [
      "1, 2 degerlerini alır\n"
     ]
    }
   ],
   "source": [
    "def topla(deger,deger2):\n",
    "    print(\"{}, {} degerlerini alır\".format(deger,deger2))\n",
    "\n",
    "deger = 1\n",
    "deger2 = 2\n",
    "topla(deger,deger2)"
   ]
  },
  {
   "cell_type": "code",
   "execution_count": 27,
   "id": "86d8759b-b902-4ea3-bdd3-c63773ec6306",
   "metadata": {},
   "outputs": [
    {
     "data": {
      "text/plain": [
       "5"
      ]
     },
     "execution_count": 27,
     "metadata": {},
     "output_type": "execute_result"
    }
   ],
   "source": [
    "def topla(x,y):\n",
    "    z = x + y\n",
    "    return z\n",
    "\n",
    "x = 3\n",
    "y = 2\n",
    "sonuc = topla(x,y)\n",
    "sonuc"
   ]
  },
  {
   "cell_type": "code",
   "execution_count": 32,
   "id": "9231a5c6-3225-497e-8f05-1a4eddf9f990",
   "metadata": {},
   "outputs": [
    {
     "name": "stdin",
     "output_type": "stream",
     "text": [
      "1.sayiyi giriniz: 3\n",
      "2.sayiyi giriniz: 2\n"
     ]
    },
    {
     "name": "stdout",
     "output_type": "stream",
     "text": [
      "1\n"
     ]
    }
   ],
   "source": [
    "def cikar(x,y):\n",
    "    return x- y\n",
    "\n",
    "a = int(input(\"1.sayiyi giriniz:\"))\n",
    "b = int(input(\"2.sayiyi giriniz:\"))\n",
    "\n",
    "sonuc = cikar(a,b)\n",
    "print(sonuc)"
   ]
  },
  {
   "cell_type": "code",
   "execution_count": 35,
   "id": "e72c9851-da25-4893-816c-1da59d204ed6",
   "metadata": {},
   "outputs": [
    {
     "data": {
      "text/plain": [
       "11"
      ]
     },
     "execution_count": 35,
     "metadata": {},
     "output_type": "execute_result"
    }
   ],
   "source": [
    "a = 5\n",
    "b = 6\n",
    "\n",
    "toplam = lambda x,y: x + y\n",
    "\n",
    "toplam(a,b)"
   ]
  },
  {
   "cell_type": "code",
   "execution_count": 37,
   "id": "1ab17242-7c63-449e-9711-b198dfaef651",
   "metadata": {},
   "outputs": [
    {
     "data": {
      "text/plain": [
       "16.0"
      ]
     },
     "execution_count": 37,
     "metadata": {},
     "output_type": "execute_result"
    }
   ],
   "source": [
    "import math as matematik\n",
    "\n",
    "matematik.pow(4,2)"
   ]
  },
  {
   "cell_type": "code",
   "execution_count": 39,
   "id": "7ffa23e3-d2af-4881-9a7a-7eca19e69dc7",
   "metadata": {},
   "outputs": [
    {
     "name": "stdin",
     "output_type": "stream",
     "text": [
      "tahmin gir 1-100 arası : 50\n"
     ]
    },
    {
     "name": "stdout",
     "output_type": "stream",
     "text": [
      "kontrol ediliyor\n",
      "sayıyı büyült\n"
     ]
    },
    {
     "name": "stdin",
     "output_type": "stream",
     "text": [
      "tahmin gir 1-100 arası : 75\n"
     ]
    },
    {
     "name": "stdout",
     "output_type": "stream",
     "text": [
      "kontrol ediliyor\n",
      "sayıyı küşçült\n"
     ]
    },
    {
     "name": "stdin",
     "output_type": "stream",
     "text": [
      "tahmin gir 1-100 arası : 60\n"
     ]
    },
    {
     "name": "stdout",
     "output_type": "stream",
     "text": [
      "kontrol ediliyor\n",
      "sayıyı küşçült\n"
     ]
    },
    {
     "name": "stdin",
     "output_type": "stream",
     "text": [
      "tahmin gir 1-100 arası : 55\n"
     ]
    },
    {
     "name": "stdout",
     "output_type": "stream",
     "text": [
      "kontrol ediliyor\n",
      "sayıyı büyült\n"
     ]
    },
    {
     "name": "stdin",
     "output_type": "stream",
     "text": [
      "tahmin gir 1-100 arası : 57\n"
     ]
    },
    {
     "name": "stdout",
     "output_type": "stream",
     "text": [
      "kontrol ediliyor\n",
      "sayıyı büyült\n"
     ]
    },
    {
     "name": "stdin",
     "output_type": "stream",
     "text": [
      "tahmin gir 1-100 arası : 59\n"
     ]
    },
    {
     "name": "stdout",
     "output_type": "stream",
     "text": [
      "kontrol ediliyor\n",
      "kontrol ediliyor\n",
      "girilen sayi 59\n"
     ]
    }
   ],
   "source": [
    "import random\n",
    "import time\n",
    "\n",
    "\n",
    "rastgele=random.randint(1,100)\n",
    "tahmin=5\n",
    "while True:\n",
    "    \n",
    "    tahmin=int(input(\"tahmin gir 1-100 arası :\"))\n",
    "    print(\"kontrol ediliyor\")\n",
    "\n",
    "    if(tahmin==rastgele):\n",
    "        print(\"kontrol ediliyor\")\n",
    "        \n",
    "        time.sleep(1)\n",
    "        \n",
    "        print(\"girilen sayi\",tahmin)\n",
    "        print(\"tebrikler\")\n",
    "        break\n",
    "    \n",
    "    elif(tahmin<rastgele):\n",
    "        tahmin=tahmin-1\n",
    "        print(\"sayıyı büyült\")\n",
    "    \n",
    "    elif(tahmin>rastgele):\n",
    "        tahmin=tahmin-1\n",
    "        print(\"sayıyı küçült\")\n",
    "    \n",
    "    else:\n",
    "        print(\"1-100 de değer gir\")\n",
    "    \n",
    "    if(tahmin==0):\n",
    "        print(\"hak bitti\")\n",
    "        break"
   ]
  },
  {
   "cell_type": "code",
   "execution_count": 40,
   "id": "ced363af-5e88-4627-9a50-70a96a7d731b",
   "metadata": {},
   "outputs": [],
   "source": [
    "#1. Soru => B. class\n",
    "#2. Soru => A. Notepad++\n",
    "#3. Soru => C. Bir sınıftan birden çok nesne türetilemez\n",
    "#4. Soru => B. .py\n",
    "#5. Soru => B. def fonksiyon1():\n",
    "#6. Soru => D. def"
   ]
  },
  {
   "cell_type": "code",
   "execution_count": 41,
   "id": "cee463df-75c2-4f6e-bc92-83a7a6efd8d1",
   "metadata": {},
   "outputs": [
    {
     "name": "stdout",
     "output_type": "stream",
     "text": [
      "h1 in yaşı : 2\n",
      "h1 in isim : dog\n",
      "h2 in yaşı : 3\n"
     ]
    }
   ],
   "source": [
    "class Hayvan():\n",
    "    def __init__(self,isim,yas):\n",
    "        self.isim=isim\n",
    "        self.yas=yas\n",
    "    def getYas(self):\n",
    "        return self.yas\n",
    "    def getAd(self):\n",
    "        return self.isim\n",
    "\n",
    "\n",
    "h1=Hayvan(\"dog\",2)\n",
    "h1_yas=h1.getYas()\n",
    "print(\"h1 in yaşı :\",h1_yas)\n",
    "\n",
    "h1_isim=h1.getAd()\n",
    "print(\"h1 in isim :\",h1_isim)\n",
    "\n",
    "h2=Hayvan(\"cat\",3)\n",
    "h2_yas=h2.getYas()\n",
    "print(\"h2 in yaşı :\",h2_yas)"
   ]
  },
  {
   "cell_type": "code",
   "execution_count": 42,
   "id": "7e56698c-e50a-4244-9037-547ed796be82",
   "metadata": {},
   "outputs": [
    {
     "data": {
      "text/plain": [
       "0"
      ]
     },
     "execution_count": 42,
     "metadata": {},
     "output_type": "execute_result"
    }
   ],
   "source": [
    "class Banka():\n",
    "    def __init__(self,isim,para,adres):\n",
    "        self.isim=isim\n",
    "        self.para=para\n",
    "        self.adres=adres\n",
    "\n",
    "hesap1=Banka(\"Sinan\",1000,\"istanbul\")\n",
    "hesap2=Banka(\"Ayşe\",5000,\"Erzurum\")\n",
    "\n",
    "hesap1.para\n",
    "\n",
    "hesap2.para=hesap2.para+hesap1.para\n",
    "\n",
    "hesap2.para\n",
    "hesap1.para=0\n",
    "hesap1.para"
   ]
  },
  {
   "cell_type": "code",
   "execution_count": 43,
   "id": "80e9564c-973d-44f2-8f1a-8c02fe7c2128",
   "metadata": {},
   "outputs": [
    {
     "name": "stdout",
     "output_type": "stream",
     "text": [
      "1. hesaptaki para:  1000\n",
      "set işlemi sonrası 1. hesaptaki para değişimi : 100\n"
     ]
    }
   ],
   "source": [
    "class Banka2():\n",
    "    def __init__(self,isim,para,adres):\n",
    "        self.__isim=isim\n",
    "        self.__para=para\n",
    "        self.__adres=adres\n",
    "\n",
    "    #get ve set metotları\n",
    "    def getPara(self):\n",
    "        return self.__para\n",
    "\n",
    "    def setPara(self,miktar):\n",
    "        self.__para=miktar\n",
    "    \n",
    "    def islemSayisi(self):\n",
    "        self.__para=self.__para-10\n",
    "\n",
    "hes1=Banka2(\"Sinan\",1000,\"istanbul\")\n",
    "hes2=Banka2(\"Ayşe\",5000,\"Erzurum\")\n",
    "\n",
    "print(\"1. hesaptaki para: \",hes1.getPara())\n",
    "hes1.setPara(100)\n",
    "print(\"set işlemi sonrası 1. hesaptaki para değişimi :\",hes1.getPara())"
   ]
  },
  {
   "cell_type": "code",
   "execution_count": 44,
   "id": "7b1fcb80-15ca-4034-a881-7c52bbd9bf04",
   "metadata": {},
   "outputs": [
    {
     "name": "stdout",
     "output_type": "stream",
     "text": [
      "hayvan sınıfının yapıcı metotum\n",
      "kedi sınıfı oluşturuldu\n",
      "miyav\n",
      "zıplar,koşar,yürür..\n",
      "Bu sevimli hayvanlar hep dört ayak üstüne düşer\n",
      "kus sınıfı oluşturldu\n",
      "kanatları vardır uçarlar\n",
      "zıplar,koşar,yürür..\n"
     ]
    }
   ],
   "source": [
    "class Animal():\n",
    "  \n",
    "    def __init__(self):\n",
    "        print(\"hayvan sınıfının yapıcı metotum\")\n",
    "   \n",
    "    def sesCikar(self):\n",
    "        print(\"hav,miyav,vak....\")\n",
    "   \n",
    "    def hareket(self):\n",
    "        print(\"zıplar,koşar,yürür..\")\n",
    "#cocuk sınıf ----child\n",
    "\n",
    "class kedi(Animal):\n",
    "    \n",
    "    def __init__(self):\n",
    "        super().__init__() # yazmasakta olur ata sınıfın init metodunu ezeriz metot overriding!!\n",
    "        print(\"kedi sınıfı oluşturuldu\")\n",
    "\n",
    "    def sesCikar(self):\n",
    "        print(\"miyav\")\n",
    "\n",
    "    def DokuzCan(self): #diğer hayvanlardan ayrılan bir fonksiyon :D\n",
    "        print(\"Bu sevimli hayvanlar hep dört ayak üstüne düşer\")\n",
    "\n",
    "k1=kedi()\n",
    "k1.sesCikar() #ata sınıfı ezer\n",
    "k1.hareket()\n",
    "k1.DokuzCan()\n",
    "\n",
    "class kus(Animal):\n",
    "    \n",
    "    def __init__(self):\n",
    "        print(\"kus sınıfı oluşturldu\")\n",
    "\n",
    "    def ucma(self):\n",
    "        print(\"kanatları vardır uçarlar\")\n",
    "\n",
    "kus1=kus()\n",
    "kus1.ucma()\n",
    "kus1.hareket()"
   ]
  },
  {
   "cell_type": "code",
   "execution_count": 45,
   "id": "00aeda5b-1bcd-4867-8997-bdc9418b24d2",
   "metadata": {},
   "outputs": [
    {
     "name": "stdout",
     "output_type": "stream",
     "text": [
      "kuş oluşturuldu\n",
      "kuslar pek kosmazda\n",
      "kuslar pek yürümez\n"
     ]
    }
   ],
   "source": [
    "from abc import ABC, abstractmethod\n",
    "class Animal(ABC): # super clas\n",
    "   \n",
    "    @abstractmethod\n",
    "    def yurume(self): pass\n",
    "   \n",
    "    @abstractmethod\n",
    "    def kosma(self): pass #sablon oluşturup tekrar tekrar kullan\n",
    "\n",
    "class kus(Animal):\n",
    "    \n",
    "    def __init__(self):\n",
    "        print(\"kuş oluşturuldu\")\n",
    "\n",
    "    def yurume(self):\n",
    "        print(\"kuslar pek yürümez\")\n",
    "\n",
    "    def kosma(self):\n",
    "        print(\"kuslar pek kosmazda\")\n",
    "\n",
    "#a=Animal() soyut sınıflardan nesne oluşturulmaz.\n",
    "b=kus() #abstract clasın içeriği yavru sınıfta doldurulur.\n",
    "b.kosma()\n",
    "b.yurume()"
   ]
  },
  {
   "cell_type": "code",
   "execution_count": 46,
   "id": "a7ea8f77-ff02-47c2-9788-58baa40b7944",
   "metadata": {},
   "outputs": [
    {
     "name": "stdout",
     "output_type": "stream",
     "text": [
      "ses çıkarırlar\n",
      "miyav\n"
     ]
    }
   ],
   "source": [
    "class Animal():\n",
    "    \n",
    "    def sesVer(self):\n",
    "        print(\"ses çıkarırlar\")\n",
    "\n",
    "class kedi(Animal):\n",
    "    \n",
    "    def sesVer(self): #ata sınıfı ezdi\n",
    "        print(\"miyav\")\n",
    "\n",
    "a=Animal()\n",
    "a.sesVer()\n",
    "k=kedi()\n",
    "k.sesVer()"
   ]
  },
  {
   "cell_type": "code",
   "execution_count": 48,
   "id": "9bc43f1e-ab5d-4157-90fc-28e03add119d",
   "metadata": {},
   "outputs": [
    {
     "name": "stdout",
     "output_type": "stream",
     "text": [
      "Boncuk: Miyav!\n",
      "Tekir: Miyav!\n",
      "Elmas: Haav! Hav!\n"
     ]
    }
   ],
   "source": [
    "class Hayvanlar:\n",
    "    def __init__(self, isim):\n",
    "        self.isim = isim\n",
    "    \n",
    "    def tepki(self):\n",
    "        raise NotImplementedError('HATA')\n",
    "\n",
    "class Kedi(Hayvanlar):\n",
    "    def tepki(self):\n",
    "        return 'Miyav!'\n",
    "\n",
    "class Kopek(Hayvanlar):\n",
    "    def tepki(self):\n",
    "        return 'Haav! Hav!'\n",
    "\n",
    "hayvan = [Kedi('Boncuk'),\n",
    "\n",
    "Kedi('Tekir'),\n",
    "Kopek('Elmas')]\n",
    "for hyvn in hayvan:\n",
    "    print(hyvn.isim + ': ' + hyvn.tepki())"
   ]
  },
  {
   "cell_type": "code",
   "execution_count": 49,
   "id": "bb8abf56-8f92-4ed0-a94d-ae7029287ba9",
   "metadata": {},
   "outputs": [],
   "source": [
    "#1. Soru => C. Bir nesnenin metot ve verilerini diğer nesnelerden saklayarak erişime engelleyerek yanlış kullanımı engel olmaktır.\n",
    "#2. Soru => B. B sınıfı A dan miras alır.\n",
    "#3. Soru => B. OOP de nesnesi olmayan sınıflara verilen isimdir."
   ]
  },
  {
   "cell_type": "code",
   "execution_count": 51,
   "id": "5ee49ad6-5caa-473b-882f-498d6b1c7bf7",
   "metadata": {},
   "outputs": [
    {
     "name": "stdout",
     "output_type": "stream",
     "text": [
      "ses çıkarırlar\n",
      "miyav\n"
     ]
    }
   ],
   "source": [
    "class Animal():\n",
    "    def sesVer(self):\n",
    "        print(\"ses çıkarırlar\")\n",
    "\n",
    "class kedi(Animal):\n",
    "    def sesVer(self): #ata sınıfı ezdi\n",
    "        print(\"miyav\")\n",
    "\n",
    "a=Animal()\n",
    "a.sesVer()\n",
    "\n",
    "k=kedi()\n",
    "k.sesVer()"
   ]
  },
  {
   "cell_type": "code",
   "execution_count": null,
   "id": "62e8ef68-1e64-4981-8fda-d3598f0dcdf9",
   "metadata": {},
   "outputs": [],
   "source": []
  }
 ],
 "metadata": {
  "kernelspec": {
   "display_name": "Python [conda env:base] *",
   "language": "python",
   "name": "conda-base-py"
  },
  "language_info": {
   "codemirror_mode": {
    "name": "ipython",
    "version": 3
   },
   "file_extension": ".py",
   "mimetype": "text/x-python",
   "name": "python",
   "nbconvert_exporter": "python",
   "pygments_lexer": "ipython3",
   "version": "3.13.5"
  }
 },
 "nbformat": 4,
 "nbformat_minor": 5
}

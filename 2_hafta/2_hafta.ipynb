{
 "cells": [
  {
   "cell_type": "code",
   "execution_count": 1,
   "id": "d79495eb-75c8-4f35-a548-6b062c376acf",
   "metadata": {},
   "outputs": [
    {
     "name": "stdin",
     "output_type": "stream",
     "text": [
      "Lütfen bir metin girin:  Merhaba\n"
     ]
    },
    {
     "name": "stdout",
     "output_type": "stream",
     "text": [
      "Merhaba\n"
     ]
    }
   ],
   "source": [
    "#1. Kullanıcıdan Alınan Metni Ekranda Gösterme\n",
    "\n",
    "metin = input(\"Lütfen bir metin girin: \")\n",
    "print(metin)"
   ]
  },
  {
   "cell_type": "code",
   "execution_count": 2,
   "id": "9c3a1945-223d-4e43-877b-286b75c399d8",
   "metadata": {},
   "outputs": [
    {
     "name": "stdin",
     "output_type": "stream",
     "text": [
      "Birinci sayıyı girin:  5\n",
      "İkinci sayıyı girin:  7\n"
     ]
    },
    {
     "name": "stdout",
     "output_type": "stream",
     "text": [
      "Sayıların toplamı: 12.0\n"
     ]
    }
   ],
   "source": [
    "#2. Kullanıcının Girdiği İki Sayıyı Toplama\n",
    "\n",
    "sayi1 = float(input(\"Birinci sayıyı girin: \"))\n",
    "sayi2 = float(input(\"İkinci sayıyı girin: \"))\n",
    "toplam = sayi1 + sayi2\n",
    "print(\"Sayıların toplamı:\", toplam)"
   ]
  },
  {
   "cell_type": "code",
   "execution_count": 3,
   "id": "720120bd-32a3-4ead-a846-218bf06e3b73",
   "metadata": {},
   "outputs": [
    {
     "name": "stdin",
     "output_type": "stream",
     "text": [
      "Bir tam sayı girin:  67\n"
     ]
    },
    {
     "name": "stdout",
     "output_type": "stream",
     "text": [
      "67 tek bir sayıdır.\n"
     ]
    }
   ],
   "source": [
    "#3. Girilen Sayının Tek veya Çift Sayı Olduğunu Belirleme\n",
    "\n",
    "sayi = int(input(\"Bir tam sayı girin: \"))\n",
    "if sayi % 2 == 0:\n",
    "    print(sayi, \"çift bir sayıdır.\")\n",
    "else:\n",
    "    print(sayi, \"tek bir sayıdır.\")"
   ]
  },
  {
   "cell_type": "code",
   "execution_count": 5,
   "id": "8f491452-c82c-418e-92cc-4c737af19592",
   "metadata": {},
   "outputs": [
    {
     "name": "stdin",
     "output_type": "stream",
     "text": [
      "Birinci sayıyı girin:  5\n",
      "İşlemi girin (+, -, *, /):  *\n",
      "İkinci sayıyı girin:  3\n"
     ]
    },
    {
     "name": "stdout",
     "output_type": "stream",
     "text": [
      "Sonuç: 15.0\n"
     ]
    }
   ],
   "source": [
    "#4. İki Sayı ile İşlem Yapan Basit Hesap Makinesi\n",
    "\n",
    "sayi1 = float(input(\"Birinci sayıyı girin: \"))\n",
    "operator = input(\"İşlemi girin (+, -, *, /): \")\n",
    "sayi2 = float(input(\"İkinci sayıyı girin: \"))\n",
    "\n",
    "if operator == '+':\n",
    "    print(\"Sonuç:\", sayi1 + sayi2)\n",
    "elif operator == '-':\n",
    "    print(\"Sonuç:\", sayi1 - sayi2)\n",
    "elif operator == '*':\n",
    "    print(\"Sonuç:\", sayi1 * sayi2)\n",
    "elif operator == '/':\n",
    "    print(\"Sonuç:\", sayi1 / sayi2)\n",
    "else:\n",
    "    print(\"Geçersiz işlem girdiniz.\")"
   ]
  },
  {
   "cell_type": "code",
   "execution_count": 7,
   "id": "14cb0e22-8310-4a3e-8fe9-dc00157f2b37",
   "metadata": {},
   "outputs": [
    {
     "name": "stdin",
     "output_type": "stream",
     "text": [
      "Birinci sayıyı girin:  t\n"
     ]
    },
    {
     "name": "stdout",
     "output_type": "stream",
     "text": [
      "Hata: Lütfen sadece sayısal değerler girin.\n"
     ]
    }
   ],
   "source": [
    "#5. Hesap Makinesinde Kullanıcı Hatalarını Önleme\n",
    "\n",
    "try:\n",
    "    sayi1 = float(input(\"Birinci sayıyı girin: \"))\n",
    "    operator = input(\"İşlemi girin (+, -, *, /): \")\n",
    "    sayi2 = float(input(\"İkinci sayıyı girin: \"))\n",
    "\n",
    "    if operator == '+':\n",
    "        sonuc = sayi1 + sayi2\n",
    "    elif operator == '-':\n",
    "        sonuc = sayi1 - sayi2\n",
    "    elif operator == '*':\n",
    "        sonuc = sayi1 * sayi2\n",
    "    elif operator == '/':\n",
    "        if sayi2 == 0:\n",
    "            sonuc = \"Hata: Bir sayı sıfıra bölünemez.\"\n",
    "        else:\n",
    "            sonuc = sayi1 / sayi2\n",
    "    else:\n",
    "        sonuc = \"Geçersiz işlem girdiniz.\"\n",
    "    print(\"Sonuç:\", sonuc)\n",
    "\n",
    "except ValueError:\n",
    "    print(\"Hata: Lütfen sadece sayısal değerler girin.\")"
   ]
  },
  {
   "cell_type": "code",
   "execution_count": 8,
   "id": "d2f03386-3e98-4633-82ad-221d68cf76b6",
   "metadata": {},
   "outputs": [
    {
     "name": "stdout",
     "output_type": "stream",
     "text": [
      "Sayı: 0\n",
      "Artırmak için '+' girin, azaltmak için '-' girin, çıkmak için herhangi başka bir tuşa basın.\n"
     ]
    },
    {
     "name": "stdin",
     "output_type": "stream",
     "text": [
      "İşlem:  +\n"
     ]
    },
    {
     "name": "stdout",
     "output_type": "stream",
     "text": [
      "Sayı: 1\n"
     ]
    },
    {
     "name": "stdin",
     "output_type": "stream",
     "text": [
      "İşlem:  +\n"
     ]
    },
    {
     "name": "stdout",
     "output_type": "stream",
     "text": [
      "Sayı: 2\n"
     ]
    },
    {
     "name": "stdin",
     "output_type": "stream",
     "text": [
      "İşlem:  -\n"
     ]
    },
    {
     "name": "stdout",
     "output_type": "stream",
     "text": [
      "Sayı: 1\n"
     ]
    },
    {
     "name": "stdin",
     "output_type": "stream",
     "text": [
      "İşlem:  \n"
     ]
    }
   ],
   "source": [
    "#6. +/- İşaretine Her Basıldığında Sayıyı Arttırma/Azaltma\n",
    "\n",
    "sayi = 0\n",
    "print(f\"Sayı: {sayi}\")\n",
    "print(\"Artırmak için '+' girin, azaltmak için '-' girin, çıkmak için herhangi başka bir tuşa basın.\")\n",
    "\n",
    "while True:\n",
    "    islem = input(\"İşlem: \")\n",
    "    if islem == '+':\n",
    "        sayi += 1\n",
    "    elif islem == '-':\n",
    "        sayi -= 1\n",
    "    else:\n",
    "        break\n",
    "    print(f\"Sayı: {sayi}\")"
   ]
  },
  {
   "cell_type": "code",
   "execution_count": 9,
   "id": "4fb54f8e-f6e7-4cca-866e-1f3b6a252fda",
   "metadata": {},
   "outputs": [
    {
     "name": "stdout",
     "output_type": "stream",
     "text": [
      "-10 -9 -8 -7 -6 -5 -4 -3 -2 -1 0 1 2 3 4 5 6 7 8 9 10 "
     ]
    }
   ],
   "source": [
    "#7. +10 ile -10 Arasındaki Sayıları Ekrana Yazma\n",
    "\n",
    "for sayi in range(-10, 11):\n",
    "    print(sayi, end=' ')"
   ]
  },
  {
   "cell_type": "code",
   "execution_count": 10,
   "id": "e5ef5611-8792-4e3b-8806-f4db29403231",
   "metadata": {},
   "outputs": [
    {
     "name": "stdin",
     "output_type": "stream",
     "text": [
      "Bir metin girin:  asdfgqwetfc\n"
     ]
    },
    {
     "name": "stdout",
     "output_type": "stream",
     "text": [
      "a,s,d,f,g,q,w,e,t,f,c\n"
     ]
    }
   ],
   "source": [
    "#8. Metindeki Her Harfin Arasına Virgül Koyma\n",
    "\n",
    "metin = input(\"Bir metin girin: \")\n",
    "virgullu_metin = \",\".join(metin)\n",
    "print(virgullu_metin)"
   ]
  },
  {
   "cell_type": "code",
   "execution_count": 11,
   "id": "9f9d82ff-70ca-4845-86ea-3c3ffde0c36e",
   "metadata": {},
   "outputs": [
    {
     "name": "stdout",
     "output_type": "stream",
     "text": [
      "[82, 61, 88, 34, 52, 95, 86, 76, 4, 79]\n"
     ]
    }
   ],
   "source": [
    "#9. 1 ile 100 Arasında Rastgele 10 Tam Sayı Üretip Dizi İçine Ekleme\n",
    "\n",
    "import random\n",
    "\n",
    "rastgele_sayilar = []\n",
    "for _ in range(10):\n",
    "    sayi = random.randint(1, 100)\n",
    "    rastgele_sayilar.append(sayi)\n",
    "\n",
    "print(rastgele_sayilar)"
   ]
  },
  {
   "cell_type": "code",
   "execution_count": 12,
   "id": "28dd5637-02c4-421e-b55a-f33f6d35fa0f",
   "metadata": {},
   "outputs": [
    {
     "name": "stdout",
     "output_type": "stream",
     "text": [
      "-100 -95 -90 -85 -80 -75 -70 -65 -60 -55 -50 -45 -40 -35 -30 -25 -20 -15 -10 -5 0 5 10 15 20 25 30 35 40 45 50 55 60 65 70 75 80 85 90 95 100 "
     ]
    }
   ],
   "source": [
    "#10. -100 ile +100 Arasındaki 5’e Tam Bölünen Sayıları Yan Yana Gösterme\n",
    "\n",
    "for sayi in range(-100, 101):\n",
    "    if sayi % 5 == 0:\n",
    "        print(sayi, end=' ')"
   ]
  },
  {
   "cell_type": "code",
   "execution_count": 13,
   "id": "62b71826-a588-4a98-bdd0-1acd3f820267",
   "metadata": {},
   "outputs": [
    {
     "name": "stdin",
     "output_type": "stream",
     "text": [
      "Birinci sayıyı girin:  86\n",
      "İkinci sayıyı girin:  47\n",
      "Üçüncü sayıyı girin:  -62\n"
     ]
    },
    {
     "name": "stdout",
     "output_type": "stream",
     "text": [
      "Sıralanmış sayılar: [-62.0, 47.0, 86.0]\n"
     ]
    }
   ],
   "source": [
    "#11. Üç Adet Sayıyı Karşılaştırıp Sıralama\n",
    "\n",
    "sayi1 = float(input(\"Birinci sayıyı girin: \"))\n",
    "sayi2 = float(input(\"İkinci sayıyı girin: \"))\n",
    "sayi3 = float(input(\"Üçüncü sayıyı girin: \"))\n",
    "\n",
    "sayilar = [sayi1, sayi2, sayi3]\n",
    "sayilar.sort()\n",
    "\n",
    "print(\"Sıralanmış sayılar:\", sayilar)"
   ]
  },
  {
   "cell_type": "code",
   "execution_count": 14,
   "id": "a19afb03-f63d-4b34-92c8-6f383f2c49b1",
   "metadata": {},
   "outputs": [
    {
     "name": "stdin",
     "output_type": "stream",
     "text": [
      "Faktöriyelini hesaplamak için bir sayı girin:  7\n"
     ]
    },
    {
     "name": "stdout",
     "output_type": "stream",
     "text": [
      "7! = 7 * 6 * 5 * 4 * 3 * 2 * 1 = 5040\n"
     ]
    }
   ],
   "source": [
    "#12. Faktöriyel Hesaplama ve Açılımını Yazdırma\n",
    "\n",
    "sayi = int(input(\"Faktöriyelini hesaplamak için bir sayı girin: \"))\n",
    "faktoriyel = 1\n",
    "aciklama = \"\"\n",
    "\n",
    "if sayi < 0:\n",
    "    print(\"Negatif sayıların faktöriyeli hesaplanamaz.\")\n",
    "elif sayi == 0:\n",
    "    print(\"0! = 1\")\n",
    "else:\n",
    "    for i in range(sayi, 0, -1):\n",
    "        faktoriyel *= i\n",
    "        aciklama += str(i)\n",
    "        if i > 1:\n",
    "            aciklama += \" * \"\n",
    "    print(f\"{sayi}! = {aciklama} = {faktoriyel}\")"
   ]
  },
  {
   "cell_type": "code",
   "execution_count": 16,
   "id": "4ca9c6e5-5447-4ed7-ad1e-a2b543bcaf52",
   "metadata": {},
   "outputs": [
    {
     "name": "stdin",
     "output_type": "stream",
     "text": [
      "Bir cümle girin:  Hello world\n"
     ]
    },
    {
     "name": "stdout",
     "output_type": "stream",
     "text": [
      "İlk kelime: Hello\n",
      "Son kelime: world\n"
     ]
    }
   ],
   "source": [
    "#13. Metindeki İlk Kelime ile Son Kelimeyi Bulma\n",
    "\n",
    "metin = input(\"Bir cümle girin: \")\n",
    "kelimeler = metin.split()\n",
    "if len(kelimeler) > 0:\n",
    "    print(\"İlk kelime:\", kelimeler[0])\n",
    "    print(\"Son kelime:\", kelimeler[-1])\n",
    "else:\n",
    "    print(\"Metin boş.\")"
   ]
  },
  {
   "cell_type": "code",
   "execution_count": 18,
   "id": "217d434d-b02e-4201-aaf4-39726dd4e702",
   "metadata": {},
   "outputs": [
    {
     "name": "stdin",
     "output_type": "stream",
     "text": [
      "Sayıları aralarında boşluk bırakarak girin:  12 1 61 78 34 92\n"
     ]
    },
    {
     "name": "stdout",
     "output_type": "stream",
     "text": [
      "Toplam: 278.0\n",
      "Ortalama: 46.333333333333336\n"
     ]
    }
   ],
   "source": [
    "#14. Girilen Sayıların Toplamını ve Ortalamasını Bulma\n",
    "\n",
    "girdi = input(\"Sayıları aralarında boşluk bırakarak girin: \")\n",
    "sayilar_str = girdi.split()\n",
    "sayilar_float = [float(sayi) for sayi in sayilar_str]\n",
    "toplam = sum(sayilar_float)\n",
    "ortalama = toplam / len(sayilar_float)\n",
    "print(\"Toplam:\", toplam)\n",
    "print(\"Ortalama:\", ortalama)"
   ]
  },
  {
   "cell_type": "code",
   "execution_count": 19,
   "id": "ea618e15-3966-4aca-84e8-67209effdeda",
   "metadata": {},
   "outputs": [
    {
     "name": "stdin",
     "output_type": "stream",
     "text": [
      "Bir metin girin:  GfrsgfKOEWRerçferEWMFES\n"
     ]
    },
    {
     "name": "stdout",
     "output_type": "stream",
     "text": [
      "gFRSGFkoewrERÇFERewmfes\n"
     ]
    }
   ],
   "source": [
    "#15. Büyük Harfleri Küçük Harflere, Küçük Harfleri Büyük Harflere Dönüştürme\n",
    "\n",
    "metin = input(\"Bir metin girin: \")\n",
    "yeni_metin = metin.swapcase()\n",
    "print(yeni_metin)"
   ]
  },
  {
   "cell_type": "code",
   "execution_count": 20,
   "id": "46520304-9717-4ab6-bb66-1ff452622d45",
   "metadata": {},
   "outputs": [
    {
     "name": "stdin",
     "output_type": "stream",
     "text": [
      "Mevcut maaşı girin:  20000\n",
      "Zam oranını yüzde olarak girin (%):  15\n"
     ]
    },
    {
     "name": "stdout",
     "output_type": "stream",
     "text": [
      "Yeni maaş: 23000.0\n"
     ]
    }
   ],
   "source": [
    "#16. Personel Maaşından Yüzdesel Zam Hesaplama\n",
    "\n",
    "mevcut_maas = float(input(\"Mevcut maaşı girin: \"))\n",
    "zam_orani = float(input(\"Zam oranını yüzde olarak girin (%): \"))\n",
    "zam_miktari = mevcut_maas * (zam_orani / 100)\n",
    "yeni_maas = mevcut_maas + zam_miktari\n",
    "print(\"Yeni maaş:\", yeni_maas)"
   ]
  },
  {
   "cell_type": "code",
   "execution_count": 21,
   "id": "c8a19f69-d2fb-456a-a5ec-a0dc0f9ecf55",
   "metadata": {},
   "outputs": [
    {
     "name": "stdin",
     "output_type": "stream",
     "text": [
      "Bir sayı girin:  75437534\n"
     ]
    },
    {
     "name": "stdout",
     "output_type": "stream",
     "text": [
      "Sayının rakamları toplamı: 38\n"
     ]
    }
   ],
   "source": [
    "#17. Sayı Değerlerinin Toplamını Hesaplama\n",
    "\n",
    "sayi_str = input(\"Bir sayı girin: \")\n",
    "rakamlar_toplami = 0\n",
    "for rakam in sayi_str:\n",
    "    if rakam.isdigit():\n",
    "        rakamlar_toplami += int(rakam)\n",
    "print(\"Sayının rakamları toplamı:\", rakamlar_toplami)"
   ]
  },
  {
   "cell_type": "code",
   "execution_count": 22,
   "id": "72ab5e5c-c10f-4774-8745-0fe556017d32",
   "metadata": {},
   "outputs": [
    {
     "name": "stdout",
     "output_type": "stream",
     "text": [
      "Çıkmak için sayı olmayan bir değer girin.\n"
     ]
    },
    {
     "name": "stdin",
     "output_type": "stream",
     "text": [
      "Bir sayı girin:  6\n"
     ]
    },
    {
     "name": "stdout",
     "output_type": "stream",
     "text": [
      "6 -> Çift\n"
     ]
    },
    {
     "name": "stdin",
     "output_type": "stream",
     "text": [
      "Bir sayı girin:  3\n"
     ]
    },
    {
     "name": "stdout",
     "output_type": "stream",
     "text": [
      "3 -> Tek\n"
     ]
    },
    {
     "name": "stdin",
     "output_type": "stream",
     "text": [
      "Bir sayı girin:  634\n"
     ]
    },
    {
     "name": "stdout",
     "output_type": "stream",
     "text": [
      "634 -> Çift\n"
     ]
    },
    {
     "name": "stdin",
     "output_type": "stream",
     "text": [
      "Bir sayı girin:  a\n"
     ]
    },
    {
     "name": "stdout",
     "output_type": "stream",
     "text": [
      "Program sonlandırıldı.\n"
     ]
    }
   ],
   "source": [
    "#18. Kullanıcının Sonsuz Sayıda Girdiği Değerlerin Yanına Tek/Çift Yazma\n",
    "\n",
    "print(\"Çıkmak için sayı olmayan bir değer girin.\")\n",
    "while True:\n",
    "    girdi = input(\"Bir sayı girin: \")\n",
    "    if girdi.isdigit() or (girdi.startswith('-') and girdi[1:].isdigit()):\n",
    "        sayi = int(girdi)\n",
    "        if sayi % 2 == 0:\n",
    "            print(f\"{sayi} -> Çift\")\n",
    "        else:\n",
    "            print(f\"{sayi} -> Tek\")\n",
    "    else:\n",
    "        print(\"Program sonlandırıldı.\")\n",
    "        break"
   ]
  },
  {
   "cell_type": "code",
   "execution_count": 23,
   "id": "f1ec44d6-a87a-4509-9398-98a69e8da44d",
   "metadata": {},
   "outputs": [
    {
     "name": "stdout",
     "output_type": "stream",
     "text": [
      "11 22 33 44 55 66 77 88 99 110 121 132 143 154 165 176 187 198 209 220 231 242 253 264 275 286 297 "
     ]
    }
   ],
   "source": [
    "#19. 1 ile 300 Arasındaki Sayılardan 11 Sayısına Bölünenleri Bulma\n",
    "\n",
    "for sayi in range(1, 301):\n",
    "    if sayi % 11 == 0:\n",
    "        print(sayi, end=\" \")"
   ]
  },
  {
   "cell_type": "code",
   "execution_count": 24,
   "id": "9a9427ed-498a-4d97-a5f1-41b91bd467f5",
   "metadata": {},
   "outputs": [
    {
     "name": "stdin",
     "output_type": "stream",
     "text": [
      "Vize notunuzu girin:  49\n",
      "Vizenin geçme notuna etkisini yüzde olarak girin (%):  40\n",
      "Dersi geçmek için gereken minimum not ortalamasını girin:  50\n"
     ]
    },
    {
     "name": "stdout",
     "output_type": "stream",
     "text": [
      "Geçmek için finalden en az 50.67 almanız gerekiyor.\n"
     ]
    }
   ],
   "source": [
    "#20. Mutlak Sistemde Sınıfı Geçmek İçin Gereken Final Notunu Hesaplama\n",
    "\n",
    "vize_notu = float(input(\"Vize notunuzu girin: \"))\n",
    "vize_etkisi = float(input(\"Vizenin geçme notuna etkisini yüzde olarak girin (%): \"))\n",
    "gecme_notu = float(input(\"Dersi geçmek için gereken minimum not ortalamasını girin: \"))\n",
    "\n",
    "final_etkisi = 100 - vize_etkisi\n",
    "gereken_final = (gecme_notu - (vize_notu * vize_etkisi / 100)) / (final_etkisi / 100)\n",
    "\n",
    "if gereken_final <= 100:\n",
    "    print(f\"Geçmek için finalden en az {gereken_final:.2f} almanız gerekiyor.\")\n",
    "else:\n",
    "    print(f\"Maalesef, finalden 100 alsanız bile geçme notuna ulaşamıyorsunuz.\")"
   ]
  },
  {
   "cell_type": "code",
   "execution_count": 25,
   "id": "91b34a9b-756e-4b7d-91d3-c526907b1afd",
   "metadata": {},
   "outputs": [
    {
     "name": "stdin",
     "output_type": "stream",
     "text": [
      "Birinci kenarı girin:  3\n",
      "İkinci kenarı girin:  4\n",
      "Üçüncü kenarı girin:  5\n"
     ]
    },
    {
     "name": "stdout",
     "output_type": "stream",
     "text": [
      "Üçgenin alanı: 6.00\n"
     ]
    }
   ],
   "source": [
    "#21. Üç Kenarı Girilen Üçgenin Alanını Hesaplama (Heron Formülü)\n",
    "\n",
    "import math\n",
    "\n",
    "a = float(input(\"Birinci kenarı girin: \"))\n",
    "b = float(input(\"İkinci kenarı girin: \"))\n",
    "c = float(input(\"Üçüncü kenarı girin: \"))\n",
    "\n",
    "s = (a + b + c) / 2\n",
    "alan = math.sqrt(s * (s - a) * (s - b) * (s - c))\n",
    "\n",
    "print(f\"Üçgenin alanı: {alan:.2f}\")"
   ]
  },
  {
   "cell_type": "code",
   "execution_count": 27,
   "id": "39527547-ed7d-438d-bd28-f642c3024d43",
   "metadata": {},
   "outputs": [
    {
     "name": "stdin",
     "output_type": "stream",
     "text": [
      "Bir metin girin:  trgırththgıerfnbırtgbjdrthpbıop\n"
     ]
    },
    {
     "name": "stdout",
     "output_type": "stream",
     "text": [
      "Metindeki sesli harf sayısı: 6\n"
     ]
    }
   ],
   "source": [
    "#22. Metindeki Sesli Harf Sayısını Hesaplama\n",
    "\n",
    "metin = input(\"Bir metin girin: \")\n",
    "sesli_harfler = \"aeıioöuüAEIİOÖUÜ\"\n",
    "sayac = 0\n",
    "for harf in metin:\n",
    "    if harf in sesli_harfler:\n",
    "        sayac += 1\n",
    "print(\"Metindeki sesli harf sayısı:\", sayac)"
   ]
  },
  {
   "cell_type": "code",
   "execution_count": 29,
   "id": "259a79bc-0444-4ad7-b3f4-e24b36e3431c",
   "metadata": {},
   "outputs": [
    {
     "name": "stdin",
     "output_type": "stream",
     "text": [
      "Rakamları girin (ör: 314):  123456789\n"
     ]
    },
    {
     "name": "stdout",
     "output_type": "stream",
     "text": [
      "1\n",
      "22\n",
      "333\n",
      "4444\n",
      "55555\n",
      "666666\n",
      "7777777\n",
      "88888888\n",
      "999999999\n"
     ]
    }
   ],
   "source": [
    "#23. Her Sayıyı Kendisi Kadar Yan Yana Yazdırma\n",
    "\n",
    "girdi = input(\"Rakamları girin (ör: 314): \")\n",
    "for rakam_str in girdi:\n",
    "    if rakam_str.isdigit():\n",
    "        rakam_int = int(rakam_str)\n",
    "        print(rakam_str * rakam_int)"
   ]
  },
  {
   "cell_type": "code",
   "execution_count": 31,
   "id": "ee10f54a-19d5-43e6-9fcc-0d758f60e7c6",
   "metadata": {},
   "outputs": [
    {
     "name": "stdin",
     "output_type": "stream",
     "text": [
      "Kaç adet rastgele sayı üretilsin:  9\n",
      "Minimum değer:  100\n",
      "Maksimum değer:  1000\n"
     ]
    },
    {
     "name": "stdout",
     "output_type": "stream",
     "text": [
      "[815, 412, 327, 281, 829, 703, 899, 494, 307]\n"
     ]
    }
   ],
   "source": [
    "#24. Tekrarsız Rastgele Sayı Üretme\n",
    "\n",
    "import random\n",
    "\n",
    "adet = int(input(\"Kaç adet rastgele sayı üretilsin: \"))\n",
    "minimum = int(input(\"Minimum değer: \"))\n",
    "maksimum = int(input(\"Maksimum değer: \"))\n",
    "\n",
    "sayilar = random.sample(range(minimum, maksimum + 1), adet)\n",
    "print(sayilar)"
   ]
  },
  {
   "cell_type": "code",
   "execution_count": 34,
   "id": "39d76d99-fda3-4296-abc9-f2bb841aeeeb",
   "metadata": {},
   "outputs": [
    {
     "name": "stdin",
     "output_type": "stream",
     "text": [
      "Asal çarpanlarını bulmak istediğiniz sayıyı girin:  96\n"
     ]
    },
    {
     "name": "stdout",
     "output_type": "stream",
     "text": [
      "[2, 2, 2, 2, 2, 3]\n"
     ]
    }
   ],
   "source": [
    "#25. Asal Çarpanlarını Bulma\n",
    "\n",
    "def asal_carpanlari_bul(n):\n",
    "    carpanlar = []\n",
    "    d = 2\n",
    "    while d * d <= n:\n",
    "        while (n % d) == 0:\n",
    "            carpanlar.append(d)\n",
    "            n //= d\n",
    "        d += 1\n",
    "    if n > 1:\n",
    "       carpanlar.append(n)\n",
    "    return carpanlar\n",
    "\n",
    "sayi = int(input(\"Asal çarpanlarını bulmak istediğiniz sayıyı girin: \"))\n",
    "print(asal_carpanlari_bul(sayi))"
   ]
  },
  {
   "cell_type": "code",
   "execution_count": 35,
   "id": "a7006d2c-61de-4412-8d3d-d578e124c013",
   "metadata": {},
   "outputs": [
    {
     "name": "stdin",
     "output_type": "stream",
     "text": [
      "Bir cümle girin:  erg esrgsrtgrtgsrtg rtrtgdrstgbr rtgmdrthdrth rtphbldrthögb\n"
     ]
    },
    {
     "name": "stdout",
     "output_type": "stream",
     "text": [
      "En uzun kelime: esrgsrtgrtgsrtg\n"
     ]
    }
   ],
   "source": [
    "#26. Metindeki En Uzun Kelimeyi Bulma\n",
    "\n",
    "metin = input(\"Bir cümle girin: \")\n",
    "kelimeler = metin.split()\n",
    "en_uzun_kelime = max(kelimeler, key=len)\n",
    "print(\"En uzun kelime:\", en_uzun_kelime)"
   ]
  },
  {
   "cell_type": "code",
   "execution_count": 36,
   "id": "6d745ef4-cc49-49b4-add4-1a23cebbc4f6",
   "metadata": {},
   "outputs": [
    {
     "name": "stdin",
     "output_type": "stream",
     "text": [
      "0-100 arası notunuzu girin:  86\n"
     ]
    },
    {
     "name": "stdout",
     "output_type": "stream",
     "text": [
      "Harf notunuz: BA\n"
     ]
    }
   ],
   "source": [
    "#27. Girilen Bir Notun Harf Karşılığını Bulma\n",
    "\n",
    "notu = float(input(\"0-100 arası notunuzu girin: \"))\n",
    "if 90 <= notu <= 100:\n",
    "    harf_notu = \"AA\"\n",
    "elif 85 <= notu < 90:\n",
    "    harf_notu = \"BA\"\n",
    "elif 80 <= notu < 85:\n",
    "    harf_notu = \"BB\"\n",
    "elif 75 <= notu < 80:\n",
    "    harf_notu = \"CB\"\n",
    "elif 65 <= notu < 75:\n",
    "    harf_notu = \"CC\"\n",
    "elif 58 <= notu < 65:\n",
    "    harf_notu = \"DC\"\n",
    "elif 50 <= notu < 58:\n",
    "    harf_notu = \"DD\"\n",
    "elif 40 <= notu < 50:\n",
    "    harf_notu = \"FD\"\n",
    "else:\n",
    "    harf_notu = \"FF\"\n",
    "print(\"Harf notunuz:\", harf_notu)"
   ]
  },
  {
   "cell_type": "code",
   "execution_count": 37,
   "id": "48b619e1-2690-46aa-9bfe-bde23eb23aec",
   "metadata": {},
   "outputs": [
    {
     "name": "stdin",
     "output_type": "stream",
     "text": [
      "Bir cümle girin:  Merhabalar nasılsınız acaba\n"
     ]
    },
    {
     "name": "stdout",
     "output_type": "stream",
     "text": [
      "ralabahreM zınıslısan abaca\n"
     ]
    }
   ],
   "source": [
    "#28. Cümledeki Her Kelimeyi Tersten Yazdırma\n",
    "\n",
    "cumle = input(\"Bir cümle girin: \")\n",
    "kelimeler = cumle.split()\n",
    "ters_kelimeler = [kelime[::-1] for kelime in kelimeler]\n",
    "yeni_cumle = \" \".join(ters_kelimeler)\n",
    "print(yeni_cumle)"
   ]
  },
  {
   "cell_type": "code",
   "execution_count": 38,
   "id": "cc88b430-ade2-49a7-9d65-1eae26465c53",
   "metadata": {},
   "outputs": [
    {
     "name": "stdin",
     "output_type": "stream",
     "text": [
      "Mors alfabesine çevrilecek metni girin:  Merhaba Dünya\n"
     ]
    },
    {
     "name": "stdout",
     "output_type": "stream",
     "text": [
      "-- . .-. .... .- -... .- / -.. -. -.-- .- \n"
     ]
    }
   ],
   "source": [
    "#29. Metni Mors Alfabesine Çevirme\n",
    "\n",
    "MORS_KODU_SOZLUGU = {\n",
    "    'A':'.-', 'B':'-...', 'C':'-.-.', 'D':'-..', 'E':'.', 'F':'..-.', 'G':'--.', 'H':'....',\n",
    "    'I':'..', 'J':'.---', 'K':'-.-', 'L':'.-..', 'M':'--', 'N':'-.', 'O':'---', 'P':'.--.',\n",
    "    'Q':'--.-', 'R':'.-.', 'S':'...', 'T':'-', 'U':'..-', 'V':'...-', 'W':'.--', 'X':'-..-',\n",
    "    'Y':'-.--', 'Z':'--..', '1':'.----', '2':'..---', '3':'...--', '4':'....-', '5':'.....',\n",
    "    '6':'-....', '7':'--...', '8':'---..', '9':'----.', '0':'-----', ' ':'/'\n",
    "}\n",
    "\n",
    "def metni_morsa_cevir(metin):\n",
    "    mors_kodu = ''\n",
    "    for karakter in metin.upper():\n",
    "        if karakter in MORS_KODU_SOZLUGU:\n",
    "            mors_kodu += MORS_KODU_SOZLUGU[karakter] + ' '\n",
    "    return mors_kodu\n",
    "\n",
    "metin_girdisi = input(\"Mors alfabesine çevrilecek metni girin: \")\n",
    "sonuc = metni_morsa_cevir(metin_girdisi)\n",
    "print(sonuc)"
   ]
  },
  {
   "cell_type": "code",
   "execution_count": 39,
   "id": "d99e3ebe-6d7c-41cf-903c-673b4de37bdc",
   "metadata": {},
   "outputs": [
    {
     "name": "stdin",
     "output_type": "stream",
     "text": [
      "Sayıları aralarında boşluk bırakarak girin:  2 45 8 92 412 542 12485 123\n"
     ]
    },
    {
     "name": "stdout",
     "output_type": "stream",
     "text": [
      "Kümülatif toplam listesi: [2.0, 47.0, 55.0, 147.0, 559.0, 1101.0, 13586.0, 13709.0]\n"
     ]
    }
   ],
   "source": [
    "#30. Kümülatif Toplam Hesaplama\n",
    "\n",
    "girdi = input(\"Sayıları aralarında boşluk bırakarak girin: \")\n",
    "sayilar = [float(sayi) for sayi in girdi.split()]\n",
    "kumulatif_toplam = []\n",
    "toplam = 0\n",
    "for sayi in sayilar:\n",
    "    toplam += sayi\n",
    "    kumulatif_toplam.append(toplam)\n",
    "print(\"Kümülatif toplam listesi:\", kumulatif_toplam)"
   ]
  },
  {
   "cell_type": "code",
   "execution_count": null,
   "id": "8bd4fc45-b102-4b02-80bf-0ee09a80ce33",
   "metadata": {},
   "outputs": [],
   "source": []
  }
 ],
 "metadata": {
  "kernelspec": {
   "display_name": "Python [conda env:base] *",
   "language": "python",
   "name": "conda-base-py"
  },
  "language_info": {
   "codemirror_mode": {
    "name": "ipython",
    "version": 3
   },
   "file_extension": ".py",
   "mimetype": "text/x-python",
   "name": "python",
   "nbconvert_exporter": "python",
   "pygments_lexer": "ipython3",
   "version": "3.13.5"
  }
 },
 "nbformat": 4,
 "nbformat_minor": 5
}
